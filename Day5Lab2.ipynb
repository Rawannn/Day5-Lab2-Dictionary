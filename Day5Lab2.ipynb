{
 "cells": [
  {
   "cell_type": "markdown",
   "id": "d8a22205",
   "metadata": {},
   "source": [
    "## "
   ]
  },
  {
   "cell_type": "code",
   "execution_count": 43,
   "id": "7bb1afa9",
   "metadata": {},
   "outputs": [
    {
     "name": "stdout",
     "output_type": "stream",
     "text": [
      "please enter phone number:1\n",
      "This is invalid number\n",
      "please enter phone number:1234343456\n",
      "Sorry, the number is not found\n",
      "please enter phone number:1111111111\n",
      "Amal\n"
     ]
    }
   ],
   "source": [
    "Dict = {1111111111: 'Amal', 2222222222: 'Mohammed', 3333333333: 'Khadijah', 4444444444: 'Abdullah', 5555555555: 'Rawan', 6666666666: 'Faisal', 7777777777:'Layla' }\n",
    "while True:\n",
    "        try:\n",
    "            phoneNum = int(input(\"please enter phone number:\"))  \n",
    "        except ValueError:\n",
    "            print(\"Please input integer only...\") \n",
    "            break \n",
    "        if len(str(phoneNum)) < 10:\n",
    "            print(\"This is invalid number\")\n",
    "        elif phoneNum in  Dict:\n",
    "            print(str(Dict[phoneNum]))\n",
    "            break\n",
    "        elif phoneNum not in Dict:\n",
    "            print(\"Sorry, the number is not found\")"
   ]
  },
  {
   "cell_type": "markdown",
   "id": "7cbeab33",
   "metadata": {},
   "source": []
  },
  {
   "cell_type": "code",
   "execution_count": null,
   "id": "0dcc595e",
   "metadata": {},
   "outputs": [],
   "source": []
  },
  {
   "cell_type": "code",
   "execution_count": null,
   "id": "2b09118e",
   "metadata": {},
   "outputs": [],
   "source": []
  },
  {
   "cell_type": "code",
   "execution_count": null,
   "id": "ba5ecf88",
   "metadata": {},
   "outputs": [],
   "source": []
  }
 ],
 "metadata": {
  "kernelspec": {
   "display_name": "Python 3 (ipykernel)",
   "language": "python",
   "name": "python3"
  },
  "language_info": {
   "codemirror_mode": {
    "name": "ipython",
    "version": 3
   },
   "file_extension": ".py",
   "mimetype": "text/x-python",
   "name": "python",
   "nbconvert_exporter": "python",
   "pygments_lexer": "ipython3",
   "version": "3.9.13"
  }
 },
 "nbformat": 4,
 "nbformat_minor": 5
}
